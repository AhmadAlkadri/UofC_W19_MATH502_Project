{
 "cells": [
  {
   "cell_type": "markdown",
   "metadata": {},
   "source": [
    "# Assignment 3\n",
    "\n",
    "### Math 502\n",
    "\n",
    "### Students: Ahmad Alkadri, Aiden Huffman\n",
    "\n",
    "### Due February 26, 2019"
   ]
  },
  {
   "cell_type": "markdown",
   "metadata": {},
   "source": [
    "# Exercise 1\n",
    "\n",
    "Describe your final project for the class. \n",
    "\n",
    "Be sure to include:\n",
    "- a list of your partner(s) on the project\n",
    "- a summary description of the physical or industrial process you intend to model\n",
    "- the question(s) you are trying to answer with your model\n",
    "- some initial thoughts on the mathematics you expect to use in the project (ODEs, PDEs, stochastic models, cellular automata, statistical analysis, etc.)\n",
    "- some indication of what data you need to collect for the project, what computing methods you might use.\n",
    "- some indication of whether you have started the project, and what you have done so far.\n",
    "- if you are intending to do an experiment, remember there are strict rules at the university that would prevent you from using human or animal subjects, or doing something that could harm the environment. Unless you are willing to go through a formal approval process. So be clear in the description about any experiments that might occur, and that implementing them will respect these rules. \n",
    "\n",
    "Something like two to three pages of description should be sufficient. You may like to include some references or videos of what you hope to examine. \n",
    "\n",
    "You can expect some feedback from the professor. \n"
   ]
  },
  {
   "cell_type": "markdown",
   "metadata": {},
   "source": [
    "## <span style=\"color:blue\">Answers:</span>"
   ]
  },
  {
   "cell_type": "markdown",
   "metadata": {},
   "source": [
    "### List of Partners:\n",
    "- Ahmad Alkadri\n",
    "- Aiden Huffman"
   ]
  },
  {
   "cell_type": "markdown",
   "metadata": {},
   "source": [
    "### Summary Description of Physical Process\n",
    "\n",
    "Estimations of a boundary layer profile enable one to make heat, mass, and momentum transfer calculations. Boundary layers arise when looking closely at the interface between a solid body and a flowing fluid. An example of a boundary layer is depicted below:\n",
    "\n",
    "<img src=\"https://upload.wikimedia.org/wikipedia/commons/thumb/0/0e/Laminar_boundary_layer_scheme.svg/2880px-Laminar_boundary_layer_scheme.svg.png\" width=\"500\" height=\"500\" />\n",
    "\n",
    "We see that when a fluid approaches with a free stream velcoity $u_o$, it starts to form a velocity profile on top of the flat plate due to the no-slip condition on the surface of the plate. The dotted line shows how far vertically one needs to travel before the velocity of the fluid, $u(y)$, becomes equal to $u_0$. From this momentum boundary layer, one can compute the thermal boundary layer, and hence the convective rate of heat transfer. The image below depicts the relation between the momentum and thermal boundary layers:\n",
    "\n",
    "<img src=\"https://upload.wikimedia.org/wikipedia/commons/c/cd/Thermal_Boundary_Layer_Thickness_formed_by_heated_fluid_flow_along_a_plate.jpg\" width=\"500\" height=\"500\" />\n"
   ]
  },
  {
   "cell_type": "markdown",
   "metadata": {},
   "source": [
    "### Questions to Answer\n",
    "- How does heat transfer relate to the velocity profile?\n",
    "- How do fluid properties (e.g., viscosity, density, heat capacity, etc) impact the (laminar) velocity and temperature profiles?\n",
    "- How well does our boundary layer appxomations compare to empirical data?\n",
    "- Stretch goal: can we predict the transient evolution of the boundary layer?"
   ]
  },
  {
   "cell_type": "markdown",
   "metadata": {},
   "source": [
    "### Initial Thoughts on the Mathematics\n",
    "- Momentum balance: The differential balance on momentum for 2-D flow is given by\n",
    "$$ \\rho \\left[ u\\frac{\\partial u}{\\partial x} + v\\frac{\\partial u}{\\partial x} \\right] = \\mu\\frac{\\partial^2 u}{\\partial y^2} - \\frac{\\partial P}{\\partial x}$$\n",
    "where $u$ is velocity in the $x$-direction, $v$ velocity in the $y$-direction, $\\rho$ density, $\\mu$ viscosity, and $P$ pressure. This equation will enable us to compute the momentum boundary layer.\n",
    "- Heat transfer: The rate of heat transfer $q$ due to convection is often described by a convection heat transfer coefficient $h$ and the formula (Newton's law of cooling):\n",
    "$$ q = hA(T_\\infty - T_s)$$\n",
    "where $A$ is the area of the plate, $T_\\infty$ is the temperature of the free-stream, and $T_s$ is the temperature of the plate at the surface. The challenge will be to predict $h$ using boundary layers."
   ]
  },
  {
   "cell_type": "markdown",
   "metadata": {},
   "source": [
    "### Data and Computational Methods Required\n",
    "\n",
    "- Data: fluid properties (viscosity, heat capacity, thermal conductivity, etc).\n",
    "- Non-linear PDE solvers\n",
    "- Asymptotic analysis\n",
    "- Sensitivity analysis"
   ]
  },
  {
   "cell_type": "markdown",
   "metadata": {},
   "source": [
    "### What has been accomplished so far\n",
    "\n",
    "Not much.. We came up with a problem. We know some theory."
   ]
  },
  {
   "cell_type": "markdown",
   "metadata": {},
   "source": [
    "### Any experiments required?\n",
    "\n",
    "Yes! We will use existing literature correlations/heat transfer calculations to compare our model results to."
   ]
  }
 ],
 "metadata": {
  "kernelspec": {
   "display_name": "Python 3",
   "language": "python",
   "name": "python3"
  },
  "language_info": {
   "codemirror_mode": {
    "name": "ipython",
    "version": 3
   },
   "file_extension": ".py",
   "mimetype": "text/x-python",
   "name": "python",
   "nbconvert_exporter": "python",
   "pygments_lexer": "ipython3",
   "version": "3.6.0"
  }
 },
 "nbformat": 4,
 "nbformat_minor": 2
}
